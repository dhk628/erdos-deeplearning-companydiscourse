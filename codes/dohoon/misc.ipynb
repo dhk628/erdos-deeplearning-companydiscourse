{
 "cells": [
  {
   "cell_type": "code",
   "id": "initial_id",
   "metadata": {
    "collapsed": true,
    "ExecuteTime": {
     "end_time": "2024-08-04T01:43:51.573014Z",
     "start_time": "2024-08-04T01:43:51.563005Z"
    }
   },
   "source": [
    "import numpy as np\n",
    "import pandas as pd\n",
    "import torch"
   ],
   "outputs": [],
   "execution_count": 15
  },
  {
   "metadata": {
    "ExecuteTime": {
     "end_time": "2024-08-04T01:45:08.338036Z",
     "start_time": "2024-08-04T01:45:08.259971Z"
    }
   },
   "cell_type": "code",
   "source": "df = pd.read_parquet('data/sst5/fine_tuned/0730/sst-5_test.parquet').rename(columns={'label': 'truth', 'vector': 'vectors'})",
   "id": "e825622732e74e62",
   "outputs": [],
   "execution_count": 21
  },
  {
   "metadata": {
    "ExecuteTime": {
     "end_time": "2024-08-04T01:45:09.324521Z",
     "start_time": "2024-08-04T01:45:09.301507Z"
    }
   },
   "cell_type": "code",
   "source": "df.head()",
   "id": "58d681c0af45cd58",
   "outputs": [
    {
     "data": {
      "text/plain": [
       "   truth                                               text  \\\n",
       "0      3                     Effective but too-tepid biopic   \n",
       "1      4  If you sometimes like to go to the movies to h...   \n",
       "2      5  Emerges as something rare , an issue movie tha...   \n",
       "3      3  The film provides some great insight into the ...   \n",
       "4      5  Offers that rare combination of entertainment ...   \n",
       "\n",
       "                                             vectors  \n",
       "0  [0.038237374275922775, -0.031992826610803604, ...  \n",
       "1  [0.0016666606534272432, 0.023446667939424515, ...  \n",
       "2  [-0.015160510316491127, -0.013772879727184772,...  \n",
       "3  [0.014632036909461021, 0.0019820253364741802, ...  \n",
       "4  [0.0037426836788654327, 0.008693324401974678, ...  "
      ],
      "text/html": [
       "<div>\n",
       "<style scoped>\n",
       "    .dataframe tbody tr th:only-of-type {\n",
       "        vertical-align: middle;\n",
       "    }\n",
       "\n",
       "    .dataframe tbody tr th {\n",
       "        vertical-align: top;\n",
       "    }\n",
       "\n",
       "    .dataframe thead th {\n",
       "        text-align: right;\n",
       "    }\n",
       "</style>\n",
       "<table border=\"1\" class=\"dataframe\">\n",
       "  <thead>\n",
       "    <tr style=\"text-align: right;\">\n",
       "      <th></th>\n",
       "      <th>truth</th>\n",
       "      <th>text</th>\n",
       "      <th>vectors</th>\n",
       "    </tr>\n",
       "  </thead>\n",
       "  <tbody>\n",
       "    <tr>\n",
       "      <th>0</th>\n",
       "      <td>3</td>\n",
       "      <td>Effective but too-tepid biopic</td>\n",
       "      <td>[0.038237374275922775, -0.031992826610803604, ...</td>\n",
       "    </tr>\n",
       "    <tr>\n",
       "      <th>1</th>\n",
       "      <td>4</td>\n",
       "      <td>If you sometimes like to go to the movies to h...</td>\n",
       "      <td>[0.0016666606534272432, 0.023446667939424515, ...</td>\n",
       "    </tr>\n",
       "    <tr>\n",
       "      <th>2</th>\n",
       "      <td>5</td>\n",
       "      <td>Emerges as something rare , an issue movie tha...</td>\n",
       "      <td>[-0.015160510316491127, -0.013772879727184772,...</td>\n",
       "    </tr>\n",
       "    <tr>\n",
       "      <th>3</th>\n",
       "      <td>3</td>\n",
       "      <td>The film provides some great insight into the ...</td>\n",
       "      <td>[0.014632036909461021, 0.0019820253364741802, ...</td>\n",
       "    </tr>\n",
       "    <tr>\n",
       "      <th>4</th>\n",
       "      <td>5</td>\n",
       "      <td>Offers that rare combination of entertainment ...</td>\n",
       "      <td>[0.0037426836788654327, 0.008693324401974678, ...</td>\n",
       "    </tr>\n",
       "  </tbody>\n",
       "</table>\n",
       "</div>"
      ]
     },
     "execution_count": 22,
     "metadata": {},
     "output_type": "execute_result"
    }
   ],
   "execution_count": 22
  },
  {
   "metadata": {
    "ExecuteTime": {
     "end_time": "2024-08-04T01:45:10.883548Z",
     "start_time": "2024-08-04T01:45:10.761438Z"
    }
   },
   "cell_type": "code",
   "source": "df.to_parquet('data/sst5/fine_tuned/0730/sst-5_test.parquet')",
   "id": "77f58a3a1e55d9a",
   "outputs": [],
   "execution_count": 23
  },
  {
   "metadata": {},
   "cell_type": "code",
   "outputs": [],
   "execution_count": null,
   "source": "",
   "id": "5e9c98085801ddff"
  }
 ],
 "metadata": {
  "kernelspec": {
   "display_name": "Python 3",
   "language": "python",
   "name": "python3"
  },
  "language_info": {
   "codemirror_mode": {
    "name": "ipython",
    "version": 2
   },
   "file_extension": ".py",
   "mimetype": "text/x-python",
   "name": "python",
   "nbconvert_exporter": "python",
   "pygments_lexer": "ipython2",
   "version": "2.7.6"
  }
 },
 "nbformat": 4,
 "nbformat_minor": 5
}
