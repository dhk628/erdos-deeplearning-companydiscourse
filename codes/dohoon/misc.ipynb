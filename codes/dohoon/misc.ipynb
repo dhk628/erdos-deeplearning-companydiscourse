{
 "cells": [
  {
   "cell_type": "code",
   "id": "initial_id",
   "metadata": {
    "collapsed": true,
    "ExecuteTime": {
     "end_time": "2024-07-16T00:47:44.507931Z",
     "start_time": "2024-07-16T00:47:36.410906Z"
    }
   },
   "source": [
    "import numpy as np\n",
    "import pandas as pd\n",
    "import torch\n",
    "from sentence_transformers import SentenceTransformer\n",
    "from sentence_transformers.util import cos_sim"
   ],
   "outputs": [
    {
     "name": "stderr",
     "output_type": "stream",
     "text": [
      "C:\\Users\\dohoo\\anaconda3\\envs\\erdos_company_discourse\\lib\\site-packages\\sentence_transformers\\cross_encoder\\CrossEncoder.py:11: TqdmExperimentalWarning: Using `tqdm.autonotebook.tqdm` in notebook mode. Use `tqdm.tqdm` instead to force console mode (e.g. in jupyter console)\n",
      "  from tqdm.autonotebook import tqdm, trange\n"
     ]
    }
   ],
   "execution_count": 1
  },
  {
   "metadata": {
    "ExecuteTime": {
     "end_time": "2024-07-16T00:48:03.393010Z",
     "start_time": "2024-07-16T00:48:03.071114Z"
    }
   },
   "cell_type": "code",
   "source": "df_train = pd.read_parquet('../../data/sst5/sst-5_train.parquet')",
   "id": "e825622732e74e62",
   "outputs": [],
   "execution_count": 3
  },
  {
   "metadata": {
    "ExecuteTime": {
     "end_time": "2024-07-16T00:48:05.558713Z",
     "start_time": "2024-07-16T00:48:05.529687Z"
    }
   },
   "cell_type": "code",
   "source": "df_train.head(20)",
   "id": "58d681c0af45cd58",
   "outputs": [
    {
     "data": {
      "text/plain": [
       "    truth                                               text  \\\n",
       "0       4  The Rock is destined to be the 21st Century 's...   \n",
       "1       5  The gorgeously elaborate continuation of `` Th...   \n",
       "2       4  Singer/composer Bryan Adams contributes a slew...   \n",
       "3       3  You 'd think by now America would have had eno...   \n",
       "4       4               Yet the act is still charming here .   \n",
       "5       5  Whether or not you 're enlightened by any of D...   \n",
       "6       5  Just the labour involved in creating the layer...   \n",
       "7       4  Part of the charm of Satin Rouge is that it av...   \n",
       "8       5  a screenplay more ingeniously constructed than...   \n",
       "9       4           `` Extreme Ops '' exceeds expectations .   \n",
       "10      5  Good fun , good action , good acting , good di...   \n",
       "11      3  You Should Pay Nine Bucks for This : Because y...   \n",
       "12      5                   Dramas like this make it human .   \n",
       "13      3  A thunderous ride at first , quiet cadences of...   \n",
       "14      5  Still , this flick is fun , and host to some t...   \n",
       "15      4  Australian actor/director John Polson and awar...   \n",
       "16      4  You walk out of The Good Girl with mixed emoti...   \n",
       "17      3  Post 9/11 the philosophical message of `` Pers...   \n",
       "18      5        Absorbing character study by André Turpin .   \n",
       "19      4  If you love reading and/or poetry , then by al...   \n",
       "\n",
       "                                              vectors  \n",
       "0   [0.028988052159547806, -0.009446061216294765, ...  \n",
       "1   [0.009347192011773586, -0.024268826469779015, ...  \n",
       "2   [0.008711128495633602, 0.02659982070326805, 0....  \n",
       "3   [0.02907816506922245, -0.0135031184181571, -0....  \n",
       "4   [-0.009661787189543247, -0.008504915982484818,...  \n",
       "5   [-0.012160818092525005, -0.012833962216973305,...  \n",
       "6   [0.004631729330867529, -0.03409641981124878, -...  \n",
       "7   [-0.013205086812376976, -0.0012794658541679382...  \n",
       "8   [0.04255269467830658, -0.03733774647116661, -0...  \n",
       "9   [-0.0015949866501614451, 0.007372601889073849,...  \n",
       "10  [0.016034267842769623, 0.011066507548093796, -...  \n",
       "11  [-0.009373359382152557, 0.03660903126001358, -...  \n",
       "12  [0.018641652539372444, 0.00287843425758183, -0...  \n",
       "13  [0.007730103563517332, 0.020881924778223038, 0...  \n",
       "14  [0.044212669134140015, 0.014000174589455128, -...  \n",
       "15  [0.02159634418785572, 0.0038784369826316833, -...  \n",
       "16  [-0.0033865843433886766, -0.000461712916148826...  \n",
       "17  [0.010466049425303936, -0.024989554658532143, ...  \n",
       "18  [0.0021847051102668047, -0.012134158052504063,...  \n",
       "19  [-0.03867142274975777, -0.005805046763271093, ...  "
      ],
      "text/html": [
       "<div>\n",
       "<style scoped>\n",
       "    .dataframe tbody tr th:only-of-type {\n",
       "        vertical-align: middle;\n",
       "    }\n",
       "\n",
       "    .dataframe tbody tr th {\n",
       "        vertical-align: top;\n",
       "    }\n",
       "\n",
       "    .dataframe thead th {\n",
       "        text-align: right;\n",
       "    }\n",
       "</style>\n",
       "<table border=\"1\" class=\"dataframe\">\n",
       "  <thead>\n",
       "    <tr style=\"text-align: right;\">\n",
       "      <th></th>\n",
       "      <th>truth</th>\n",
       "      <th>text</th>\n",
       "      <th>vectors</th>\n",
       "    </tr>\n",
       "  </thead>\n",
       "  <tbody>\n",
       "    <tr>\n",
       "      <th>0</th>\n",
       "      <td>4</td>\n",
       "      <td>The Rock is destined to be the 21st Century 's...</td>\n",
       "      <td>[0.028988052159547806, -0.009446061216294765, ...</td>\n",
       "    </tr>\n",
       "    <tr>\n",
       "      <th>1</th>\n",
       "      <td>5</td>\n",
       "      <td>The gorgeously elaborate continuation of `` Th...</td>\n",
       "      <td>[0.009347192011773586, -0.024268826469779015, ...</td>\n",
       "    </tr>\n",
       "    <tr>\n",
       "      <th>2</th>\n",
       "      <td>4</td>\n",
       "      <td>Singer/composer Bryan Adams contributes a slew...</td>\n",
       "      <td>[0.008711128495633602, 0.02659982070326805, 0....</td>\n",
       "    </tr>\n",
       "    <tr>\n",
       "      <th>3</th>\n",
       "      <td>3</td>\n",
       "      <td>You 'd think by now America would have had eno...</td>\n",
       "      <td>[0.02907816506922245, -0.0135031184181571, -0....</td>\n",
       "    </tr>\n",
       "    <tr>\n",
       "      <th>4</th>\n",
       "      <td>4</td>\n",
       "      <td>Yet the act is still charming here .</td>\n",
       "      <td>[-0.009661787189543247, -0.008504915982484818,...</td>\n",
       "    </tr>\n",
       "    <tr>\n",
       "      <th>5</th>\n",
       "      <td>5</td>\n",
       "      <td>Whether or not you 're enlightened by any of D...</td>\n",
       "      <td>[-0.012160818092525005, -0.012833962216973305,...</td>\n",
       "    </tr>\n",
       "    <tr>\n",
       "      <th>6</th>\n",
       "      <td>5</td>\n",
       "      <td>Just the labour involved in creating the layer...</td>\n",
       "      <td>[0.004631729330867529, -0.03409641981124878, -...</td>\n",
       "    </tr>\n",
       "    <tr>\n",
       "      <th>7</th>\n",
       "      <td>4</td>\n",
       "      <td>Part of the charm of Satin Rouge is that it av...</td>\n",
       "      <td>[-0.013205086812376976, -0.0012794658541679382...</td>\n",
       "    </tr>\n",
       "    <tr>\n",
       "      <th>8</th>\n",
       "      <td>5</td>\n",
       "      <td>a screenplay more ingeniously constructed than...</td>\n",
       "      <td>[0.04255269467830658, -0.03733774647116661, -0...</td>\n",
       "    </tr>\n",
       "    <tr>\n",
       "      <th>9</th>\n",
       "      <td>4</td>\n",
       "      <td>`` Extreme Ops '' exceeds expectations .</td>\n",
       "      <td>[-0.0015949866501614451, 0.007372601889073849,...</td>\n",
       "    </tr>\n",
       "    <tr>\n",
       "      <th>10</th>\n",
       "      <td>5</td>\n",
       "      <td>Good fun , good action , good acting , good di...</td>\n",
       "      <td>[0.016034267842769623, 0.011066507548093796, -...</td>\n",
       "    </tr>\n",
       "    <tr>\n",
       "      <th>11</th>\n",
       "      <td>3</td>\n",
       "      <td>You Should Pay Nine Bucks for This : Because y...</td>\n",
       "      <td>[-0.009373359382152557, 0.03660903126001358, -...</td>\n",
       "    </tr>\n",
       "    <tr>\n",
       "      <th>12</th>\n",
       "      <td>5</td>\n",
       "      <td>Dramas like this make it human .</td>\n",
       "      <td>[0.018641652539372444, 0.00287843425758183, -0...</td>\n",
       "    </tr>\n",
       "    <tr>\n",
       "      <th>13</th>\n",
       "      <td>3</td>\n",
       "      <td>A thunderous ride at first , quiet cadences of...</td>\n",
       "      <td>[0.007730103563517332, 0.020881924778223038, 0...</td>\n",
       "    </tr>\n",
       "    <tr>\n",
       "      <th>14</th>\n",
       "      <td>5</td>\n",
       "      <td>Still , this flick is fun , and host to some t...</td>\n",
       "      <td>[0.044212669134140015, 0.014000174589455128, -...</td>\n",
       "    </tr>\n",
       "    <tr>\n",
       "      <th>15</th>\n",
       "      <td>4</td>\n",
       "      <td>Australian actor/director John Polson and awar...</td>\n",
       "      <td>[0.02159634418785572, 0.0038784369826316833, -...</td>\n",
       "    </tr>\n",
       "    <tr>\n",
       "      <th>16</th>\n",
       "      <td>4</td>\n",
       "      <td>You walk out of The Good Girl with mixed emoti...</td>\n",
       "      <td>[-0.0033865843433886766, -0.000461712916148826...</td>\n",
       "    </tr>\n",
       "    <tr>\n",
       "      <th>17</th>\n",
       "      <td>3</td>\n",
       "      <td>Post 9/11 the philosophical message of `` Pers...</td>\n",
       "      <td>[0.010466049425303936, -0.024989554658532143, ...</td>\n",
       "    </tr>\n",
       "    <tr>\n",
       "      <th>18</th>\n",
       "      <td>5</td>\n",
       "      <td>Absorbing character study by André Turpin .</td>\n",
       "      <td>[0.0021847051102668047, -0.012134158052504063,...</td>\n",
       "    </tr>\n",
       "    <tr>\n",
       "      <th>19</th>\n",
       "      <td>4</td>\n",
       "      <td>If you love reading and/or poetry , then by al...</td>\n",
       "      <td>[-0.03867142274975777, -0.005805046763271093, ...</td>\n",
       "    </tr>\n",
       "  </tbody>\n",
       "</table>\n",
       "</div>"
      ]
     },
     "execution_count": 4,
     "metadata": {},
     "output_type": "execute_result"
    }
   ],
   "execution_count": 4
  },
  {
   "metadata": {
    "ExecuteTime": {
     "end_time": "2024-07-15T21:16:44.226506Z",
     "start_time": "2024-07-15T21:16:43.311049Z"
    }
   },
   "cell_type": "code",
   "source": "model = SentenceTransformer('thenlper/gte-large', device='cuda')",
   "id": "c64c31656b042fb8",
   "outputs": [],
   "execution_count": 5
  },
  {
   "metadata": {
    "ExecuteTime": {
     "end_time": "2024-07-15T21:13:08.317297Z",
     "start_time": "2024-07-15T21:13:08.305286Z"
    }
   },
   "cell_type": "code",
   "source": [
    "text = df_train['text'].tolist()[6]\n",
    "text"
   ],
   "id": "3898877fcbb1c8b7",
   "outputs": [
    {
     "data": {
      "text/plain": [
       "'Some of the visual flourishes are a little too obvious , but restrained and subtle storytelling , and fine performances make this delicate coming-of-age tale a treat .'"
      ]
     },
     "execution_count": 5,
     "metadata": {},
     "output_type": "execute_result"
    }
   ],
   "execution_count": 5
  },
  {
   "metadata": {
    "ExecuteTime": {
     "end_time": "2024-07-15T21:13:11.029092Z",
     "start_time": "2024-07-15T21:13:09.353005Z"
    }
   },
   "cell_type": "code",
   "source": [
    "emb = model.encode(text)\n",
    "emb"
   ],
   "id": "d75634591a5e3fa0",
   "outputs": [
    {
     "data": {
      "text/plain": [
       "array([-0.00089823, -0.02702591,  0.00427189, ...,  0.01366597,\n",
       "        0.02848142,  0.00013055], dtype=float32)"
      ]
     },
     "execution_count": 6,
     "metadata": {},
     "output_type": "execute_result"
    }
   ],
   "execution_count": 6
  },
  {
   "metadata": {
    "ExecuteTime": {
     "end_time": "2024-07-15T21:13:13.503370Z",
     "start_time": "2024-07-15T21:13:13.218112Z"
    }
   },
   "cell_type": "code",
   "source": [
    "good = model.encode('good')\n",
    "bad = model.encode('bad')\n",
    "positive = model.encode('positive')\n",
    "negative = model.encode('negative')\n",
    "vgood = model.encode('very good')\n",
    "vbad = model.encode('very bad')\n",
    "vpositive = model.encode('very positive')\n",
    "vnegative = model.encode('very negative')\n",
    "neutral = model.encode('neutral')\n",
    "average = model.encode('average')"
   ],
   "id": "6f645b04eb8d8a16",
   "outputs": [],
   "execution_count": 7
  },
  {
   "metadata": {
    "ExecuteTime": {
     "end_time": "2024-07-15T21:13:14.865287Z",
     "start_time": "2024-07-15T21:13:14.843267Z"
    }
   },
   "cell_type": "code",
   "source": [
    "print(cos_sim(emb, vgood))\n",
    "print(cos_sim(emb, vpositive))\n",
    "print(cos_sim(emb, good))\n",
    "print(cos_sim(emb, positive))\n",
    "print(cos_sim(emb, bad))\n",
    "print(cos_sim(emb, negative))\n",
    "print(cos_sim(emb, vbad))\n",
    "print(cos_sim(emb, vnegative))\n",
    "print(cos_sim(emb, average))\n",
    "print(cos_sim(emb, neutral))"
   ],
   "id": "6932b515cd67c7a7",
   "outputs": [
    {
     "name": "stdout",
     "output_type": "stream",
     "text": [
      "tensor([[0.7661]])\n",
      "tensor([[0.7453]])\n",
      "tensor([[0.7704]])\n",
      "tensor([[0.7443]])\n",
      "tensor([[0.7250]])\n",
      "tensor([[0.6985]])\n",
      "tensor([[0.7204]])\n",
      "tensor([[0.7017]])\n",
      "tensor([[0.7206]])\n",
      "tensor([[0.7622]])\n"
     ]
    }
   ],
   "execution_count": 8
  },
  {
   "metadata": {
    "ExecuteTime": {
     "end_time": "2024-07-15T21:13:15.624160Z",
     "start_time": "2024-07-15T21:13:15.580120Z"
    }
   },
   "cell_type": "code",
   "source": "very = model.encode('very')",
   "id": "d4f088023b0e3e5f",
   "outputs": [],
   "execution_count": 9
  },
  {
   "metadata": {
    "ExecuteTime": {
     "end_time": "2024-07-15T21:13:16.030476Z",
     "start_time": "2024-07-15T21:13:16.020467Z"
    }
   },
   "cell_type": "code",
   "source": "print(cos_sim(emb, very))",
   "id": "1598c0b0ba51a639",
   "outputs": [
    {
     "name": "stdout",
     "output_type": "stream",
     "text": [
      "tensor([[0.7802]])\n"
     ]
    }
   ],
   "execution_count": 10
  },
  {
   "metadata": {
    "ExecuteTime": {
     "end_time": "2024-07-15T21:13:16.488815Z",
     "start_time": "2024-07-15T21:13:16.483811Z"
    }
   },
   "cell_type": "code",
   "source": [
    "text2 = df_train['text'].tolist()[3]\n",
    "text2"
   ],
   "id": "11b08e9a975d23c7",
   "outputs": [
    {
     "data": {
      "text/plain": [
       "\"When the precise nature of Matthew 's predicament finally comes into sharp focus , the revelation fails to justify the build-up .\""
      ]
     },
     "execution_count": 11,
     "metadata": {},
     "output_type": "execute_result"
    }
   ],
   "execution_count": 11
  },
  {
   "metadata": {
    "ExecuteTime": {
     "end_time": "2024-07-15T21:13:17.515042Z",
     "start_time": "2024-07-15T21:13:17.471012Z"
    }
   },
   "cell_type": "code",
   "source": "emb2 = model.encode(text2)",
   "id": "4cf8d1b992150c73",
   "outputs": [],
   "execution_count": 12
  },
  {
   "metadata": {
    "ExecuteTime": {
     "end_time": "2024-07-15T21:13:18.020420Z",
     "start_time": "2024-07-15T21:13:18.006407Z"
    }
   },
   "cell_type": "code",
   "source": [
    "print(cos_sim(emb2, vgood))\n",
    "print(cos_sim(emb2, vpositive))\n",
    "print(cos_sim(emb2, good))\n",
    "print(cos_sim(emb2, positive))\n",
    "print(cos_sim(emb2, bad))\n",
    "print(cos_sim(emb2, negative))\n",
    "print(cos_sim(emb2, vbad))\n",
    "print(cos_sim(emb2, vnegative))\n",
    "print(cos_sim(emb2, average))\n",
    "print(cos_sim(emb2, neutral))"
   ],
   "id": "e93a6a80c25c985a",
   "outputs": [
    {
     "name": "stdout",
     "output_type": "stream",
     "text": [
      "tensor([[0.7329]])\n",
      "tensor([[0.7265]])\n",
      "tensor([[0.7480]])\n",
      "tensor([[0.7431]])\n",
      "tensor([[0.7689]])\n",
      "tensor([[0.7689]])\n",
      "tensor([[0.7752]])\n",
      "tensor([[0.7794]])\n",
      "tensor([[0.7360]])\n",
      "tensor([[0.7613]])\n"
     ]
    }
   ],
   "execution_count": 13
  },
  {
   "metadata": {
    "ExecuteTime": {
     "end_time": "2024-07-15T21:13:18.691583Z",
     "start_time": "2024-07-15T21:13:18.685577Z"
    }
   },
   "cell_type": "code",
   "source": "print(cos_sim(emb2, very))",
   "id": "48ca79ba8b347fda",
   "outputs": [
    {
     "name": "stdout",
     "output_type": "stream",
     "text": [
      "tensor([[0.7661]])\n"
     ]
    }
   ],
   "execution_count": 14
  },
  {
   "metadata": {
    "ExecuteTime": {
     "end_time": "2024-07-15T21:13:19.514197Z",
     "start_time": "2024-07-15T21:13:19.455143Z"
    }
   },
   "cell_type": "code",
   "source": [
    "w1 = model.encode('Conversion from radians to degrees')\n",
    "w2 = model.encode('This model exclusively caters to English texts, and any lengthy texts will be truncated to a maximum of 512 tokens')\n",
    "print(cos_sim(w1, w2))"
   ],
   "id": "34939f092e4d5b76",
   "outputs": [
    {
     "name": "stdout",
     "output_type": "stream",
     "text": [
      "tensor([[0.7278]])\n"
     ]
    }
   ],
   "execution_count": 15
  },
  {
   "metadata": {
    "ExecuteTime": {
     "end_time": "2024-07-15T21:20:00.583779Z",
     "start_time": "2024-07-15T21:19:59.408278Z"
    }
   },
   "cell_type": "code",
   "source": "model = SentenceTransformer('Alibaba-NLP/gte-large-en-v1.5', trust_remote_code=True)",
   "id": "431dbecc70a89c02",
   "outputs": [],
   "execution_count": 7
  },
  {
   "metadata": {
    "ExecuteTime": {
     "end_time": "2024-07-15T21:20:03.312027Z",
     "start_time": "2024-07-15T21:20:03.242964Z"
    }
   },
   "cell_type": "code",
   "source": [
    "w1 = model.encode('Conversion from radians to degrees')\n",
    "w2 = model.encode('This model exclusively caters to English texts, and any lengthy texts will be truncated to a maximum of 512 tokens')\n",
    "print(cos_sim(w1, w2))"
   ],
   "id": "e882f3239e051622",
   "outputs": [
    {
     "name": "stdout",
     "output_type": "stream",
     "text": [
      "tensor([[0.3583]])\n"
     ]
    },
    {
     "name": "stderr",
     "output_type": "stream",
     "text": [
      "C:\\Users\\dohoo\\.cache\\huggingface\\modules\\transformers_modules\\Alibaba-NLP\\new-impl\\fcceab01127c2ce888844aa365d3195cff389c7c\\modeling.py:578: UserWarning: 1Torch was not compiled with flash attention. (Triggered internally at ..\\aten\\src\\ATen\\native\\transformers\\cuda\\sdp_utils.cpp:455.)\n",
      "  attn_output = torch.nn.functional.scaled_dot_product_attention(\n"
     ]
    }
   ],
   "execution_count": 8
  },
  {
   "metadata": {},
   "cell_type": "code",
   "outputs": [],
   "execution_count": null,
   "source": "",
   "id": "5284774e32e4ab95"
  }
 ],
 "metadata": {
  "kernelspec": {
   "display_name": "Python 3",
   "language": "python",
   "name": "python3"
  },
  "language_info": {
   "codemirror_mode": {
    "name": "ipython",
    "version": 2
   },
   "file_extension": ".py",
   "mimetype": "text/x-python",
   "name": "python",
   "nbconvert_exporter": "python",
   "pygments_lexer": "ipython2",
   "version": "2.7.6"
  }
 },
 "nbformat": 4,
 "nbformat_minor": 5
}
