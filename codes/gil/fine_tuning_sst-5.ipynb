{
 "cells": [
  {
   "cell_type": "markdown",
   "metadata": {},
   "source": [
    "### Loading data frames with vectors before fine-tuning"
   ]
  },
  {
   "cell_type": "code",
   "execution_count": 16,
   "metadata": {},
   "outputs": [],
   "source": [
    "import pandas as pd"
   ]
  },
  {
   "cell_type": "code",
   "execution_count": 17,
   "metadata": {},
   "outputs": [
    {
     "data": {
      "text/html": [
       "<div>\n",
       "<style scoped>\n",
       "    .dataframe tbody tr th:only-of-type {\n",
       "        vertical-align: middle;\n",
       "    }\n",
       "\n",
       "    .dataframe tbody tr th {\n",
       "        vertical-align: top;\n",
       "    }\n",
       "\n",
       "    .dataframe thead th {\n",
       "        text-align: right;\n",
       "    }\n",
       "</style>\n",
       "<table border=\"1\" class=\"dataframe\">\n",
       "  <thead>\n",
       "    <tr style=\"text-align: right;\">\n",
       "      <th></th>\n",
       "      <th>label</th>\n",
       "      <th>text</th>\n",
       "      <th>vector</th>\n",
       "    </tr>\n",
       "  </thead>\n",
       "  <tbody>\n",
       "    <tr>\n",
       "      <th>0</th>\n",
       "      <td>4</td>\n",
       "      <td>The Rock is destined to be the 21st Century 's...</td>\n",
       "      <td>[0.028988052159547806, -0.009446061216294765, ...</td>\n",
       "    </tr>\n",
       "    <tr>\n",
       "      <th>1</th>\n",
       "      <td>5</td>\n",
       "      <td>The gorgeously elaborate continuation of `` Th...</td>\n",
       "      <td>[0.009347192011773586, -0.024268826469779015, ...</td>\n",
       "    </tr>\n",
       "    <tr>\n",
       "      <th>2</th>\n",
       "      <td>4</td>\n",
       "      <td>Singer/composer Bryan Adams contributes a slew...</td>\n",
       "      <td>[0.008711128495633602, 0.02659982070326805, 0....</td>\n",
       "    </tr>\n",
       "    <tr>\n",
       "      <th>3</th>\n",
       "      <td>3</td>\n",
       "      <td>You 'd think by now America would have had eno...</td>\n",
       "      <td>[0.02907816506922245, -0.0135031184181571, -0....</td>\n",
       "    </tr>\n",
       "    <tr>\n",
       "      <th>4</th>\n",
       "      <td>4</td>\n",
       "      <td>Yet the act is still charming here .</td>\n",
       "      <td>[-0.009661787189543247, -0.008504915982484818,...</td>\n",
       "    </tr>\n",
       "    <tr>\n",
       "      <th>...</th>\n",
       "      <td>...</td>\n",
       "      <td>...</td>\n",
       "      <td>...</td>\n",
       "    </tr>\n",
       "    <tr>\n",
       "      <th>8539</th>\n",
       "      <td>1</td>\n",
       "      <td>A real snooze .</td>\n",
       "      <td>[0.02205696515738964, 0.005160005763173103, -0...</td>\n",
       "    </tr>\n",
       "    <tr>\n",
       "      <th>8540</th>\n",
       "      <td>2</td>\n",
       "      <td>No surprises .</td>\n",
       "      <td>[-0.025823453441262245, 0.01339965220540762, 0...</td>\n",
       "    </tr>\n",
       "    <tr>\n",
       "      <th>8541</th>\n",
       "      <td>4</td>\n",
       "      <td>We 've seen the hippie-turned-yuppie plot befo...</td>\n",
       "      <td>[0.022835904732346535, 0.005308573134243488, -...</td>\n",
       "    </tr>\n",
       "    <tr>\n",
       "      <th>8542</th>\n",
       "      <td>1</td>\n",
       "      <td>Her fans walked out muttering words like `` ho...</td>\n",
       "      <td>[0.0018498385325074196, -0.006132118869572878,...</td>\n",
       "    </tr>\n",
       "    <tr>\n",
       "      <th>8543</th>\n",
       "      <td>2</td>\n",
       "      <td>In this case zero .</td>\n",
       "      <td>[-0.004530646372586489, 0.008977022022008896, ...</td>\n",
       "    </tr>\n",
       "  </tbody>\n",
       "</table>\n",
       "<p>8544 rows × 3 columns</p>\n",
       "</div>"
      ],
      "text/plain": [
       "      label                                               text  \\\n",
       "0         4  The Rock is destined to be the 21st Century 's...   \n",
       "1         5  The gorgeously elaborate continuation of `` Th...   \n",
       "2         4  Singer/composer Bryan Adams contributes a slew...   \n",
       "3         3  You 'd think by now America would have had eno...   \n",
       "4         4               Yet the act is still charming here .   \n",
       "...     ...                                                ...   \n",
       "8539      1                                    A real snooze .   \n",
       "8540      2                                     No surprises .   \n",
       "8541      4  We 've seen the hippie-turned-yuppie plot befo...   \n",
       "8542      1  Her fans walked out muttering words like `` ho...   \n",
       "8543      2                                In this case zero .   \n",
       "\n",
       "                                                 vector  \n",
       "0     [0.028988052159547806, -0.009446061216294765, ...  \n",
       "1     [0.009347192011773586, -0.024268826469779015, ...  \n",
       "2     [0.008711128495633602, 0.02659982070326805, 0....  \n",
       "3     [0.02907816506922245, -0.0135031184181571, -0....  \n",
       "4     [-0.009661787189543247, -0.008504915982484818,...  \n",
       "...                                                 ...  \n",
       "8539  [0.02205696515738964, 0.005160005763173103, -0...  \n",
       "8540  [-0.025823453441262245, 0.01339965220540762, 0...  \n",
       "8541  [0.022835904732346535, 0.005308573134243488, -...  \n",
       "8542  [0.0018498385325074196, -0.006132118869572878,...  \n",
       "8543  [-0.004530646372586489, 0.008977022022008896, ...  \n",
       "\n",
       "[8544 rows x 3 columns]"
      ]
     },
     "execution_count": 17,
     "metadata": {},
     "output_type": "execute_result"
    }
   ],
   "source": [
    "df_train = pd.read_parquet(\"SST-5_train.parquet\")\n",
    "df_train"
   ]
  },
  {
   "cell_type": "code",
   "execution_count": 18,
   "metadata": {},
   "outputs": [
    {
     "data": {
      "text/html": [
       "<div>\n",
       "<style scoped>\n",
       "    .dataframe tbody tr th:only-of-type {\n",
       "        vertical-align: middle;\n",
       "    }\n",
       "\n",
       "    .dataframe tbody tr th {\n",
       "        vertical-align: top;\n",
       "    }\n",
       "\n",
       "    .dataframe thead th {\n",
       "        text-align: right;\n",
       "    }\n",
       "</style>\n",
       "<table border=\"1\" class=\"dataframe\">\n",
       "  <thead>\n",
       "    <tr style=\"text-align: right;\">\n",
       "      <th></th>\n",
       "      <th>label</th>\n",
       "      <th>text</th>\n",
       "      <th>vector</th>\n",
       "    </tr>\n",
       "  </thead>\n",
       "  <tbody>\n",
       "    <tr>\n",
       "      <th>0</th>\n",
       "      <td>4</td>\n",
       "      <td>It 's a lovely film with lovely performances b...</td>\n",
       "      <td>[0.014344158582389355, -0.014246133156120777, ...</td>\n",
       "    </tr>\n",
       "    <tr>\n",
       "      <th>1</th>\n",
       "      <td>3</td>\n",
       "      <td>No one goes unindicted here , which is probabl...</td>\n",
       "      <td>[-0.033927109092473984, 0.004705137573182583, ...</td>\n",
       "    </tr>\n",
       "    <tr>\n",
       "      <th>2</th>\n",
       "      <td>4</td>\n",
       "      <td>And if you 're not nearly moved to tears by a ...</td>\n",
       "      <td>[0.03554988279938698, 0.005494742188602686, 0....</td>\n",
       "    </tr>\n",
       "    <tr>\n",
       "      <th>3</th>\n",
       "      <td>5</td>\n",
       "      <td>A warm , funny , engaging film .</td>\n",
       "      <td>[0.0033094482496380806, -0.006415203213691711,...</td>\n",
       "    </tr>\n",
       "    <tr>\n",
       "      <th>4</th>\n",
       "      <td>5</td>\n",
       "      <td>Uses sharp humor and insight into human nature...</td>\n",
       "      <td>[-0.00372790964320302, -0.01158247422426939, -...</td>\n",
       "    </tr>\n",
       "    <tr>\n",
       "      <th>...</th>\n",
       "      <td>...</td>\n",
       "      <td>...</td>\n",
       "      <td>...</td>\n",
       "    </tr>\n",
       "    <tr>\n",
       "      <th>1096</th>\n",
       "      <td>2</td>\n",
       "      <td>it seems to me the film is about the art of ri...</td>\n",
       "      <td>[-0.0041084508411586285, 0.0022037506569176912...</td>\n",
       "    </tr>\n",
       "    <tr>\n",
       "      <th>1097</th>\n",
       "      <td>2</td>\n",
       "      <td>It 's just disappointingly superficial -- a mo...</td>\n",
       "      <td>[0.026826655492186546, -0.003068310907110572, ...</td>\n",
       "    </tr>\n",
       "    <tr>\n",
       "      <th>1098</th>\n",
       "      <td>2</td>\n",
       "      <td>The title not only describes its main characte...</td>\n",
       "      <td>[-0.01506034005433321, -0.018043246120214462, ...</td>\n",
       "    </tr>\n",
       "    <tr>\n",
       "      <th>1099</th>\n",
       "      <td>3</td>\n",
       "      <td>Sometimes it feels as if it might have been ma...</td>\n",
       "      <td>[0.01700529269874096, -0.019340755417943, 0.01...</td>\n",
       "    </tr>\n",
       "    <tr>\n",
       "      <th>1100</th>\n",
       "      <td>2</td>\n",
       "      <td>Schaeffer has to find some hook on which to ha...</td>\n",
       "      <td>[0.018991896882653236, -0.027758155018091202, ...</td>\n",
       "    </tr>\n",
       "  </tbody>\n",
       "</table>\n",
       "<p>1101 rows × 3 columns</p>\n",
       "</div>"
      ],
      "text/plain": [
       "      label                                               text  \\\n",
       "0         4  It 's a lovely film with lovely performances b...   \n",
       "1         3  No one goes unindicted here , which is probabl...   \n",
       "2         4  And if you 're not nearly moved to tears by a ...   \n",
       "3         5                   A warm , funny , engaging film .   \n",
       "4         5  Uses sharp humor and insight into human nature...   \n",
       "...     ...                                                ...   \n",
       "1096      2  it seems to me the film is about the art of ri...   \n",
       "1097      2  It 's just disappointingly superficial -- a mo...   \n",
       "1098      2  The title not only describes its main characte...   \n",
       "1099      3  Sometimes it feels as if it might have been ma...   \n",
       "1100      2  Schaeffer has to find some hook on which to ha...   \n",
       "\n",
       "                                                 vector  \n",
       "0     [0.014344158582389355, -0.014246133156120777, ...  \n",
       "1     [-0.033927109092473984, 0.004705137573182583, ...  \n",
       "2     [0.03554988279938698, 0.005494742188602686, 0....  \n",
       "3     [0.0033094482496380806, -0.006415203213691711,...  \n",
       "4     [-0.00372790964320302, -0.01158247422426939, -...  \n",
       "...                                                 ...  \n",
       "1096  [-0.0041084508411586285, 0.0022037506569176912...  \n",
       "1097  [0.026826655492186546, -0.003068310907110572, ...  \n",
       "1098  [-0.01506034005433321, -0.018043246120214462, ...  \n",
       "1099  [0.01700529269874096, -0.019340755417943, 0.01...  \n",
       "1100  [0.018991896882653236, -0.027758155018091202, ...  \n",
       "\n",
       "[1101 rows x 3 columns]"
      ]
     },
     "execution_count": 18,
     "metadata": {},
     "output_type": "execute_result"
    }
   ],
   "source": [
    "df_val = pd.read_parquet(\"SST-5_validation.parquet\")\n",
    "df_val"
   ]
  },
  {
   "cell_type": "code",
   "execution_count": 19,
   "metadata": {},
   "outputs": [
    {
     "data": {
      "text/html": [
       "<div>\n",
       "<style scoped>\n",
       "    .dataframe tbody tr th:only-of-type {\n",
       "        vertical-align: middle;\n",
       "    }\n",
       "\n",
       "    .dataframe tbody tr th {\n",
       "        vertical-align: top;\n",
       "    }\n",
       "\n",
       "    .dataframe thead th {\n",
       "        text-align: right;\n",
       "    }\n",
       "</style>\n",
       "<table border=\"1\" class=\"dataframe\">\n",
       "  <thead>\n",
       "    <tr style=\"text-align: right;\">\n",
       "      <th></th>\n",
       "      <th>label</th>\n",
       "      <th>text</th>\n",
       "      <th>vector</th>\n",
       "    </tr>\n",
       "  </thead>\n",
       "  <tbody>\n",
       "    <tr>\n",
       "      <th>0</th>\n",
       "      <td>3</td>\n",
       "      <td>Effective but too-tepid biopic</td>\n",
       "      <td>[0.03771601989865303, -0.01407540775835514, -0...</td>\n",
       "    </tr>\n",
       "    <tr>\n",
       "      <th>1</th>\n",
       "      <td>4</td>\n",
       "      <td>If you sometimes like to go to the movies to h...</td>\n",
       "      <td>[0.004801097325980663, 0.016335567459464073, -...</td>\n",
       "    </tr>\n",
       "    <tr>\n",
       "      <th>2</th>\n",
       "      <td>5</td>\n",
       "      <td>Emerges as something rare , an issue movie tha...</td>\n",
       "      <td>[-0.007570621557533741, -0.01461589615792036, ...</td>\n",
       "    </tr>\n",
       "    <tr>\n",
       "      <th>3</th>\n",
       "      <td>3</td>\n",
       "      <td>The film provides some great insight into the ...</td>\n",
       "      <td>[0.017468415200710297, 0.0014129610499367118, ...</td>\n",
       "    </tr>\n",
       "    <tr>\n",
       "      <th>4</th>\n",
       "      <td>5</td>\n",
       "      <td>Offers that rare combination of entertainment ...</td>\n",
       "      <td>[-0.0018032152438536286, 0.009503910318017006,...</td>\n",
       "    </tr>\n",
       "    <tr>\n",
       "      <th>...</th>\n",
       "      <td>...</td>\n",
       "      <td>...</td>\n",
       "      <td>...</td>\n",
       "    </tr>\n",
       "    <tr>\n",
       "      <th>2205</th>\n",
       "      <td>4</td>\n",
       "      <td>An imaginative comedy/thriller .</td>\n",
       "      <td>[0.003715773345902562, -0.017833538353443146, ...</td>\n",
       "    </tr>\n",
       "    <tr>\n",
       "      <th>2206</th>\n",
       "      <td>5</td>\n",
       "      <td>( A ) rare , beautiful film .</td>\n",
       "      <td>[0.014899306930601597, -0.0012953468831256032,...</td>\n",
       "    </tr>\n",
       "    <tr>\n",
       "      <th>2207</th>\n",
       "      <td>5</td>\n",
       "      <td>( An ) hilarious romantic comedy .</td>\n",
       "      <td>[0.0038455419708043337, -0.02839694730937481, ...</td>\n",
       "    </tr>\n",
       "    <tr>\n",
       "      <th>2208</th>\n",
       "      <td>4</td>\n",
       "      <td>Never ( sinks ) into exploitation .</td>\n",
       "      <td>[-0.0060380371287465096, 0.018880721181631088,...</td>\n",
       "    </tr>\n",
       "    <tr>\n",
       "      <th>2209</th>\n",
       "      <td>1</td>\n",
       "      <td>( U ) nrelentingly stupid .</td>\n",
       "      <td>[0.00849425233900547, -0.0029038558714091778, ...</td>\n",
       "    </tr>\n",
       "  </tbody>\n",
       "</table>\n",
       "<p>2210 rows × 3 columns</p>\n",
       "</div>"
      ],
      "text/plain": [
       "      label                                               text  \\\n",
       "0         3                     Effective but too-tepid biopic   \n",
       "1         4  If you sometimes like to go to the movies to h...   \n",
       "2         5  Emerges as something rare , an issue movie tha...   \n",
       "3         3  The film provides some great insight into the ...   \n",
       "4         5  Offers that rare combination of entertainment ...   \n",
       "...     ...                                                ...   \n",
       "2205      4                   An imaginative comedy/thriller .   \n",
       "2206      5                      ( A ) rare , beautiful film .   \n",
       "2207      5                 ( An ) hilarious romantic comedy .   \n",
       "2208      4                Never ( sinks ) into exploitation .   \n",
       "2209      1                        ( U ) nrelentingly stupid .   \n",
       "\n",
       "                                                 vector  \n",
       "0     [0.03771601989865303, -0.01407540775835514, -0...  \n",
       "1     [0.004801097325980663, 0.016335567459464073, -...  \n",
       "2     [-0.007570621557533741, -0.01461589615792036, ...  \n",
       "3     [0.017468415200710297, 0.0014129610499367118, ...  \n",
       "4     [-0.0018032152438536286, 0.009503910318017006,...  \n",
       "...                                                 ...  \n",
       "2205  [0.003715773345902562, -0.017833538353443146, ...  \n",
       "2206  [0.014899306930601597, -0.0012953468831256032,...  \n",
       "2207  [0.0038455419708043337, -0.02839694730937481, ...  \n",
       "2208  [-0.0060380371287465096, 0.018880721181631088,...  \n",
       "2209  [0.00849425233900547, -0.0029038558714091778, ...  \n",
       "\n",
       "[2210 rows x 3 columns]"
      ]
     },
     "execution_count": 19,
     "metadata": {},
     "output_type": "execute_result"
    }
   ],
   "source": [
    "df_test = pd.read_parquet(\"SST-5_test.parquet\")\n",
    "df_test"
   ]
  },
  {
   "cell_type": "markdown",
   "metadata": {},
   "source": [
    "### Forming the data to feed into fine-tuning process"
   ]
  },
  {
   "cell_type": "code",
   "execution_count": 28,
   "metadata": {},
   "outputs": [],
   "source": [
    "from datasets import Dataset\n",
    "from datasets import concatenate_datasets # https://huggingface.co/docs/datasets/"
   ]
  },
  {
   "cell_type": "code",
   "execution_count": 21,
   "metadata": {},
   "outputs": [],
   "source": [
    "# texts[0] contains label 1\n",
    "# ...\n",
    "# texts[4] contains label 5\n",
    "\n",
    "texts = []\n",
    "\n",
    "for i in range(5):\n",
    "    texts.append( df_train[df_train['label'] == i+1]['text'].tolist() )"
   ]
  },
  {
   "cell_type": "code",
   "execution_count": 22,
   "metadata": {},
   "outputs": [
    {
     "name": "stdout",
     "output_type": "stream",
     "text": [
      "1092\n",
      "2218\n",
      "1624\n",
      "2322\n",
      "1288\n"
     ]
    }
   ],
   "source": [
    "for i in range(5):\n",
    "    print(len(texts[i]))"
   ]
  },
  {
   "cell_type": "code",
   "execution_count": 23,
   "metadata": {},
   "outputs": [],
   "source": [
    "# creating anchor-positive dataset for rating 5\n",
    "\n",
    "len_5 = len(texts[4]) // 2 # 644\n",
    "\n",
    "train_dataset_5 = Dataset.from_dict({\n",
    "    'anchor': texts[4][0:len_5],\n",
    "    'positive': texts[4][len_5:],\n",
    "    'negative': texts[0][0:len_5]\n",
    "})"
   ]
  },
  {
   "cell_type": "code",
   "execution_count": 24,
   "metadata": {},
   "outputs": [
    {
     "data": {
      "text/plain": [
       "Dataset({\n",
       "    features: ['anchor', 'positive', 'negative'],\n",
       "    num_rows: 644\n",
       "})"
      ]
     },
     "execution_count": 24,
     "metadata": {},
     "output_type": "execute_result"
    }
   ],
   "source": [
    "train_dataset_5"
   ]
  },
  {
   "cell_type": "code",
   "execution_count": 25,
   "metadata": {},
   "outputs": [],
   "source": [
    "# creating anchor-positive dataset for rating 1\n",
    "\n",
    "len_1 = len(texts[0]) // 2 # 546\n",
    "\n",
    "train_dataset_1 = Dataset.from_dict({\n",
    "    'anchor': texts[0][0:len_1],\n",
    "    'positive': texts[0][len_1:],\n",
    "    'negative': texts[4][0:len_1]\n",
    "})"
   ]
  },
  {
   "cell_type": "code",
   "execution_count": 26,
   "metadata": {},
   "outputs": [
    {
     "data": {
      "text/plain": [
       "Dataset({\n",
       "    features: ['anchor', 'positive', 'negative'],\n",
       "    num_rows: 546\n",
       "})"
      ]
     },
     "execution_count": 26,
     "metadata": {},
     "output_type": "execute_result"
    }
   ],
   "source": [
    "train_dataset_1"
   ]
  },
  {
   "cell_type": "code",
   "execution_count": 29,
   "metadata": {},
   "outputs": [],
   "source": [
    "# Concatenate datasets -- https://huggingface.co/docs/datasets/v1.3.0/processing.html\n",
    "\n",
    "train_dataset = concatenate_datasets([train_dataset_1, train_dataset_5])"
   ]
  },
  {
   "cell_type": "markdown",
   "metadata": {},
   "source": [
    "### Fine-tuning"
   ]
  },
  {
   "cell_type": "code",
   "execution_count": 37,
   "metadata": {},
   "outputs": [],
   "source": [
    "from sentence_transformers import SentenceTransformer, SentenceTransformerTrainer, SentenceTransformerTrainingArguments, losses\n",
    "from sentence_transformers.training_args import BatchSamplers\n",
    "\n",
    "# https://www.sbert.net/docs/sentence_transformer/training_overview.html"
   ]
  },
  {
   "cell_type": "code",
   "execution_count": 33,
   "metadata": {},
   "outputs": [],
   "source": [
    "model = SentenceTransformer('thenlper/gte-large')"
   ]
  },
  {
   "cell_type": "code",
   "execution_count": 34,
   "metadata": {},
   "outputs": [],
   "source": [
    "loss = losses.MultipleNegativesRankingLoss(model)"
   ]
  },
  {
   "cell_type": "code",
   "execution_count": 39,
   "metadata": {},
   "outputs": [],
   "source": [
    "# https://www.sbert.net/docs/package_reference/sentence_transformer/training_args.html#sentence_transformers.training_args.SentenceTransformerTrainingArguments\n",
    "\n",
    "args = SentenceTransformerTrainingArguments(\n",
    "    # Required parameter:\n",
    "    output_dir=\"models/fine_tuned_gte\",\n",
    "\n",
    "    # Optional training parameters:\n",
    "    num_train_epochs=3, # default 3\n",
    "    per_device_train_batch_size=16,\n",
    "    per_device_eval_batch_size=16,\n",
    "    learning_rate=2e-5, # default 5e-5\n",
    "    warmup_ratio=0.1, # Ratio of total training steps used for a linear warmup from 0 to learning_rate\n",
    "    fp16=True,  # Set to False if you get an error that your GPU can't run on FP16\n",
    "    bf16=False,  # Set to True if you have a GPU that supports BF16\n",
    "    batch_sampler=BatchSamplers.NO_DUPLICATES  # MultipleNegativesRankingLoss benefits from no duplicate samples in a batch\n",
    ")"
   ]
  },
  {
   "cell_type": "code",
   "execution_count": 40,
   "metadata": {},
   "outputs": [],
   "source": [
    "trainer = SentenceTransformerTrainer(\n",
    "    model=model,\n",
    "    train_dataset=train_dataset,\n",
    "    loss=loss,\n",
    "    args=args\n",
    ")\n"
   ]
  },
  {
   "cell_type": "code",
   "execution_count": 41,
   "metadata": {},
   "outputs": [
    {
     "data": {
      "application/vnd.jupyter.widget-view+json": {
       "model_id": "fd4c0981537248bcbb2f297ce6b5f25e",
       "version_major": 2,
       "version_minor": 0
      },
      "text/plain": [
       "  0%|          | 0/225 [00:00<?, ?it/s]"
      ]
     },
     "metadata": {},
     "output_type": "display_data"
    },
    {
     "name": "stdout",
     "output_type": "stream",
     "text": [
      "{'train_runtime': 807.4902, 'train_samples_per_second': 4.421, 'train_steps_per_second': 0.279, 'train_loss': 2.733545735677083, 'epoch': 3.0}\n"
     ]
    },
    {
     "data": {
      "text/plain": [
       "TrainOutput(global_step=225, training_loss=2.733545735677083, metrics={'train_runtime': 807.4902, 'train_samples_per_second': 4.421, 'train_steps_per_second': 0.279, 'train_loss': 2.733545735677083, 'epoch': 3.0})"
      ]
     },
     "execution_count": 41,
     "metadata": {},
     "output_type": "execute_result"
    }
   ],
   "source": [
    "trainer.train()"
   ]
  },
  {
   "cell_type": "code",
   "execution_count": 43,
   "metadata": {},
   "outputs": [],
   "source": [
    "trainer.save_model('./fine_tuned_gte_july23')"
   ]
  },
  {
   "cell_type": "code",
   "execution_count": 44,
   "metadata": {},
   "outputs": [],
   "source": [
    "model_tuned = SentenceTransformer('fine_tuned_gte_july23')"
   ]
  },
  {
   "cell_type": "code",
   "execution_count": 45,
   "metadata": {},
   "outputs": [
    {
     "data": {
      "text/plain": [
       "SentenceTransformer(\n",
       "  (0): Transformer({'max_seq_length': 512, 'do_lower_case': False}) with Transformer model: BertModel \n",
       "  (1): Pooling({'word_embedding_dimension': 1024, 'pooling_mode_cls_token': False, 'pooling_mode_mean_tokens': True, 'pooling_mode_max_tokens': False, 'pooling_mode_mean_sqrt_len_tokens': False, 'pooling_mode_weightedmean_tokens': False, 'pooling_mode_lasttoken': False, 'include_prompt': True})\n",
       "  (2): Normalize()\n",
       ")"
      ]
     },
     "execution_count": 45,
     "metadata": {},
     "output_type": "execute_result"
    }
   ],
   "source": [
    "model_tuned"
   ]
  },
  {
   "cell_type": "code",
   "execution_count": null,
   "metadata": {},
   "outputs": [],
   "source": []
  }
 ],
 "metadata": {
  "kernelspec": {
   "display_name": "Python 3",
   "language": "python",
   "name": "python3"
  },
  "language_info": {
   "codemirror_mode": {
    "name": "ipython",
    "version": 3
   },
   "file_extension": ".py",
   "mimetype": "text/x-python",
   "name": "python",
   "nbconvert_exporter": "python",
   "pygments_lexer": "ipython3",
   "version": "3.12.1"
  }
 },
 "nbformat": 4,
 "nbformat_minor": 2
}
